{
 "cells": [
  {
   "cell_type": "code",
   "execution_count": 1,
   "id": "6ecca10d-6dfe-41b5-84db-fc04048bcd9f",
   "metadata": {},
   "outputs": [],
   "source": [
    "import sys\n",
    "import os\n",
    "sys.path.append('../src')  # so Python can find your local module\n",
    "\n",
    "from data.pull_data import fetch_lmp\n",
    "import matplotlib.pyplot as plt\n",
    "import pandas as pd\n",
    "from datetime import datetime\n"
   ]
  },
  {
   "cell_type": "code",
   "execution_count": 2,
   "id": "9435aeee-3a2d-49a3-bf35-e277d7d8f014",
   "metadata": {},
   "outputs": [
    {
     "ename": "NameError",
     "evalue": "name 'os' is not defined",
     "output_type": "error",
     "traceback": [
      "\u001b[31m---------------------------------------------------------------------------\u001b[39m",
      "\u001b[31mNameError\u001b[39m                                 Traceback (most recent call last)",
      "\u001b[36mCell\u001b[39m\u001b[36m \u001b[39m\u001b[32mIn[2]\u001b[39m\u001b[32m, line 3\u001b[39m\n\u001b[32m      1\u001b[39m PROCESSED_PATH = \u001b[33m\"\u001b[39m\u001b[33m../data/processed/\u001b[39m\u001b[33m\"\u001b[39m\n\u001b[32m----> \u001b[39m\u001b[32m3\u001b[39m rtm_cleaned = pd.read_csv(\u001b[43mos\u001b[49m.path.join(PROCESSED_PATH, \u001b[33m'\u001b[39m\u001b[33mrtm_cleaned_hourly.csv\u001b[39m\u001b[33m'\u001b[39m))\n\u001b[32m      4\u001b[39m \u001b[38;5;66;03m#df.columns = df.columns.to_series().str.join('_')\u001b[39;00m\n\u001b[32m      5\u001b[39m \u001b[38;5;66;03m#rtm_cleaned.head(20)\u001b[39;00m\n\u001b[32m      7\u001b[39m start = \u001b[33m'\u001b[39m\u001b[33m2024-05-01\u001b[39m\u001b[33m'\u001b[39m\n",
      "\u001b[31mNameError\u001b[39m: name 'os' is not defined"
     ]
    }
   ],
   "source": [
    "PROCESSED_PATH = \"../data/processed/\"\n",
    "\n",
    "rtm_cleaned = pd.read_csv(os.path.join(PROCESSED_PATH, 'rtm_cleaned_hourly.csv'))\n",
    "#df.columns = df.columns.to_series().str.join('_')\n",
    "#rtm_cleaned.head(20)\n",
    "\n",
    "start = '2024-05-01'\n",
    "end = '2024-09-01'\n",
    "\n",
    "\n",
    "start_dt = datetime.fromisoformat(start)\n",
    "end_dt = datetime.fromisoformat(end)\n",
    "\n",
    "mask = (rtm_cleaned['INTERVALENDTIME_GMT'] >= start) & (rtm_cleaned['INTERVALENDTIME_GMT'] <= end)\n",
    "\n",
    "rtm_window = rtm_cleaned[mask]\n",
    "\n",
    "rtm_window.plot(x='INTERVALENDTIME_GMT', y='LMP_PRC')\n",
    "plt.gcf().autofmt_xdate()"
   ]
  },
  {
   "cell_type": "code",
   "execution_count": null,
   "id": "6acae9ba-9b17-473e-849b-c3f967ffec51",
   "metadata": {},
   "outputs": [],
   "source": []
  }
 ],
 "metadata": {
  "kernelspec": {
   "display_name": "Python 3 (ipykernel)",
   "language": "python",
   "name": "python3"
  },
  "language_info": {
   "codemirror_mode": {
    "name": "ipython",
    "version": 3
   },
   "file_extension": ".py",
   "mimetype": "text/x-python",
   "name": "python",
   "nbconvert_exporter": "python",
   "pygments_lexer": "ipython3",
   "version": "3.11.13"
  }
 },
 "nbformat": 4,
 "nbformat_minor": 5
}
